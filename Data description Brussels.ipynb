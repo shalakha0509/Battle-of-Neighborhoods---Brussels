{
    "cells": [
        {
            "cell_type": "markdown",
            "metadata": {
                "collapsed": true
            },
            "source": "# Data description"
        },
        {
            "cell_type": "markdown",
            "metadata": {},
            "source": "### As we are creating a report for those who want to open a new luxury hotel in Brussels, the first requirement is to collect Brussels postal codes data with the name of respective neighborhoods. The second requirement would be collect data related to latitude and longitude values of the same neighbrohoods and merge the two datasets.\n\n### There are 19 municipalities in Brussels with different neighborhoods. We will explore each municipality and their respective neighborhoods to check which neighborhood has the most visited venues and would be perfect to open a new hotel.\n### We will extract the data from below wikipedia page using Beautiful Soup.\n### https://en.wikipedia.org/wiki/List_of_municipalities_of_the_Brussels-Capital_Region\n\n### We will extract the data related to latitude and logitude values of Neighborhoods with a csv file(zipcode-belgium.csv) saved at local machine and then at the server. \n\n### Now once we have the latitude and longitude data, let's use Foursquare Location to get the amount of most visited venues per Neighborhood, which will give us an idea of where the tourist are moving when visiting the city. This will already show us the best Neighborhoods to start a hotel. The details can be retrieved using search endpoint.\n### Link to the dataset is: https://developer.foursquare.com/docs/data"
        }
    ],
    "metadata": {
        "kernelspec": {
            "display_name": "Python 3.6",
            "language": "python",
            "name": "python3"
        },
        "language_info": {
            "codemirror_mode": {
                "name": "ipython",
                "version": 3
            },
            "file_extension": ".py",
            "mimetype": "text/x-python",
            "name": "python",
            "nbconvert_exporter": "python",
            "pygments_lexer": "ipython3",
            "version": "3.6.8"
        }
    },
    "nbformat": 4,
    "nbformat_minor": 1
}