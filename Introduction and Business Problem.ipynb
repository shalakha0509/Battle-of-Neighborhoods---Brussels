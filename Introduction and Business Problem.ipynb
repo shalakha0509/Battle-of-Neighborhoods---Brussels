{
    "cells": [
        {
            "cell_type": "markdown",
            "metadata": {
                "collapsed": true
            },
            "source": "# Introduction"
        },
        {
            "cell_type": "markdown",
            "metadata": {},
            "source": "### My report is for those who are planning to start a new hotel in the city of Brussels. I will provide a suggestion on what would be the best venue to start a new hotel in this densely populated and highly visited city.\n\n### Brussels, officially the Brussels-Capital Region, is a region of Belgium comprising 19 municipalities, including the City of Brussels, which is the capital of Belgium. The Brussels-Capital Region is located in the central portion of the country and is a part of both the French Community of Belgium and the Flemish Community, but is separate from the Flemish Region (in which it forms an enclave) and the Walloon Region. Brussels is the most densely populated and the richest region in Belgium in terms of GDP per capita. \n\n### Unassuming Brussels is the capital of Belgium, Flanders and Europe. Medieval Grand-Place, is indeed grand, with many 17th-century buildings and daily flower markets. Reopened in 2006, the Atomium, Brussels' Eiffel Tower, provides great views, inside and out. Architecture fans should visit Musee Horta, home of Belgian master architect Victor Horta. St. Gery's clubs and bars are packed year-round. Seafood eateries abound in Ste. Catherine. Walk, rather than get snarled up in traffic, in the narrow streets."
        },
        {
            "cell_type": "markdown",
            "metadata": {},
            "source": "# Business Problem"
        },
        {
            "cell_type": "markdown",
            "metadata": {},
            "source": "### In my report, I will focus on the issue of where to open a new hotel in a city like Brussels, once one has decided to go ahead. Let\u2019s imagine Marriott Hotels are willing to open a new luxury hotel, the first and foremost important decision will be the location for its new hotel.\n\n### 1. On what basis can they decide the new hotel's location?\n### 2. While selecting the place there are key points to consider like they need to check where the most well-visited venues of the city are?\n### 3. If incase there are already other luxury hotels which have good ratings, will it be risky to open new one near these hotels?\n\n### Out of scope for this project: Rent and land values in the neighborhoods, budget for the interior decoration of the hotel, budget for opening different restaurants in the hotel etc."
        },
        {
            "cell_type": "code",
            "execution_count": null,
            "metadata": {},
            "outputs": [],
            "source": ""
        }
    ],
    "metadata": {
        "kernelspec": {
            "display_name": "Python 3.6",
            "language": "python",
            "name": "python3"
        },
        "language_info": {
            "codemirror_mode": {
                "name": "ipython",
                "version": 3
            },
            "file_extension": ".py",
            "mimetype": "text/x-python",
            "name": "python",
            "nbconvert_exporter": "python",
            "pygments_lexer": "ipython3",
            "version": "3.6.8"
        }
    },
    "nbformat": 4,
    "nbformat_minor": 1
}